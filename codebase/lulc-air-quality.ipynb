{
 "cells": [
  {
   "cell_type": "code",
   "execution_count": null,
   "metadata": {},
   "outputs": [],
   "source": [
    "import pandas as pd\n",
    "import matplotlib.pyplot as plt\n",
    "\n",
    "# Dataset\n",
    "data = pd.read_csv(\"/home/benyamain/Desktop/lulc-air-quality/dataset/california-eleven-month-mol-m2.csv\")"
   ]
  },
  {
   "cell_type": "code",
   "execution_count": null,
   "metadata": {},
   "outputs": [],
   "source": [
    "# Just to understand the dist. more\n",
    "bins = pd.qcut(data['NO2_column_number_density'], q=2)\n",
    "print(bins.value_counts(sort=False))\n",
    "\n",
    "# Hist.\n",
    "plt.hist(data['NO2_column_number_density'], bins=2)\n",
    "\n",
    "plt.xlabel('NO2_column_number_density')\n",
    "plt.ylabel('Frequency')\n",
    "plt.title('Histogram of NO2_column_number_density')\n",
    "\n",
    "plt.savefig('/home/benyamain/Desktop/lulc-air-quality/figures/discretization-equal-frequency.png')\n",
    "plt.show()\n"
   ]
  },
  {
   "cell_type": "code",
   "execution_count": null,
   "metadata": {},
   "outputs": [],
   "source": [
    "# Discretize the attributes using equal width method\n",
    "# The big caveat is that the density levels are low and high RESPECTIVE to the dist. of the dataset\n",
    "data['NO2_column_number_density'] = pd.qcut(x=data['NO2_column_number_density'], labels=[\"Low NO2 Levels\", \"High NO2 Levels\"], q=2)\n",
    "print(data['NO2_column_number_density'].head(100))"
   ]
  },
  {
   "cell_type": "code",
   "execution_count": null,
   "metadata": {
    "scrolled": false
   },
   "outputs": [],
   "source": [
    "import seaborn as sns\n",
    "\n",
    "sample = data.sample(n=50) \n",
    "\n",
    "sample.set_index('NO2_column_number_density', inplace=True)\n",
    "\n",
    "# Create a heatmap\n",
    "plt.figure(figsize=(20, 20))\n",
    "sns.heatmap(sample, annot=True, cmap='coolwarm', linewidths=.5)\n",
    "plt.title('Relationship between LULC and NO2 Levels')\n",
    "plt.savefig('/home/benyamain/Desktop/lulc-air-quality/figures/heatmap.png')\n",
    "plt.show()\n"
   ]
  },
  {
   "cell_type": "code",
   "execution_count": null,
   "metadata": {},
   "outputs": [],
   "source": [
    "# Drop the target output from the input train set\n",
    "X = data[data.columns.drop('NO2_column_number_density')]\n",
    "print(\"Input Attributes: \", X)\n",
    "# Set the target output to the output train set\n",
    "y = data['NO2_column_number_density']\n",
    "print(\"Training Labels: \", y)"
   ]
  },
  {
   "cell_type": "code",
   "execution_count": null,
   "metadata": {},
   "outputs": [],
   "source": [
    "# Imports\n",
    "from sklearnex import patch_sklearn, config_context\n",
    "patch_sklearn()\n",
    "\n",
    "from sklearn.model_selection import train_test_split, cross_val_score\n",
    "from sklearn.tree import DecisionTreeClassifier\n",
    "from sklearn.metrics import accuracy_score, classification_report\n",
    "\n",
    "# Split data into train and test sets\n",
    "X_train, X_test, y_train, y_test = train_test_split(X, y, test_size=0.2, random_state=1)\n",
    "\n",
    "# Based on the dist. of the histogram\n",
    "class_weights_custom = {\"Low NO2 Levels\": 0.20, \"High NO2 Levels\": 0.75}\n",
    "\n",
    "# DTC\n",
    "with config_context(target_offload=\"gpu:0\"):\n",
    "    dtc = DecisionTreeClassifier(criterion='gini', splitter='best', max_depth=10, min_samples_split=10, min_samples_leaf=5, max_features=None, class_weight=None)\n",
    "\n",
    "    # Train the model\n",
    "    dtc.fit(X_train, y_train)\n",
    "\n",
    "    # Predictions on the test set\n",
    "    y_pred = dtc.predict(X_test)\n",
    "\n",
    "    cross_val_scores = cross_val_score(dtc, X_train, y_train, cv=10, scoring='accuracy')\n",
    "\n",
    "    # Eval\n",
    "    accuracy = accuracy_score(y_test, y_pred)\n",
    "    report = classification_report(y_test, y_pred)"
   ]
  },
  {
   "cell_type": "code",
   "execution_count": null,
   "metadata": {},
   "outputs": [],
   "source": [
    "print(\"Accuracy: \", accuracy)\n",
    "print(report)\n",
    "\n",
    "# Cross validation\n",
    "print(f'CV Scores: {cross_val_scores}')\n",
    "print(f'Mean CV Accuracy: {cross_val_scores.mean()}')"
   ]
  },
  {
   "cell_type": "code",
   "execution_count": null,
   "metadata": {
    "scrolled": true
   },
   "outputs": [],
   "source": [
    "import seaborn as sns\n",
    "import matplotlib.pyplot as plt\n",
    "\n",
    "# Understanding the relationship between air quality attr. related to the LULC class labels\n",
    "sns.pairplot(data, x_vars=['bare', 'built', 'crops', 'flooded_vegetation', 'grass', 'shrub_and_scrub', 'snow_and_ice', 'trees', 'water'], y_vars='NO2_column_number_density', kind='scatter')\n",
    "plt.savefig('/home/benyamain/Desktop/lulc-air-quality/figures/scatterplot-individual.png')\n",
    "plt.show()"
   ]
  },
  {
   "cell_type": "code",
   "execution_count": null,
   "metadata": {},
   "outputs": [],
   "source": [
    "# Drop the target output from the input train set\n",
    "X = data[data.columns.drop('NO2_column_number_density')]\n",
    "print(\"Input Attributes: \", X)\n",
    "# Set the target output to the output train set\n",
    "y = data['NO2_column_number_density']\n",
    "print(\"Training Labels: \", y)"
   ]
  },
  {
   "cell_type": "code",
   "execution_count": null,
   "metadata": {},
   "outputs": [],
   "source": [
    "# Imports\n",
    "from sklearnex import patch_sklearn, config_context\n",
    "patch_sklearn()\n",
    "\n",
    "from sklearn.ensemble import RandomForestClassifier\n",
    "from sklearn.model_selection import train_test_split, cross_val_score\n",
    "from sklearn.metrics import accuracy_score, classification_report\n",
    "\n",
    "# Split data into train and test sets\n",
    "X_train, X_test, y_train, y_test = train_test_split(X, y, test_size=0.2, random_state=1)\n",
    "\n",
    "# Based on the dist. of the histogram\n",
    "class_weights_custom = {\"Low NO2 Levels\": 0.20, \"High NO2 Levels\": 0.75}\n",
    "\n",
    "# Random Forest Classifier\n",
    "with config_context(target_offload=\"gpu:0\"):\n",
    "    rf_clf = RandomForestClassifier(n_estimators=100, criterion='gini', max_depth=None, min_samples_split=2, min_samples_leaf=1, min_weight_fraction_leaf=0.0, max_features='sqrt', max_leaf_nodes=None, min_impurity_decrease=0.0, bootstrap=True, oob_score=False, n_jobs=None, random_state=None, verbose=0, warm_start=False, class_weight=None, ccp_alpha=0.0, max_samples=None)\n",
    "\n",
    "    # Train the model\n",
    "    rf_clf.fit(X_train, y_train)\n",
    "\n",
    "    # Make predictiotns for class labels\n",
    "    y_pred = rf_clf.predict(X_test)\n",
    "\n",
    "    cross_val_scores = cross_val_score(rf_clf, X_train, y_train, cv=10, scoring='accuracy')\n",
    "\n",
    "    # Eval\n",
    "    accuracy = accuracy_score(y_test, y_pred)\n",
    "    report = classification_report(y_test, y_pred)"
   ]
  },
  {
   "cell_type": "code",
   "execution_count": null,
   "metadata": {},
   "outputs": [],
   "source": [
    "print(\"Accuracy: \", accuracy)\n",
    "print(report)\n",
    "\n",
    "# Cross validation\n",
    "print(f'CV Scores: {cross_val_scores}')\n",
    "print(f'Mean CV Accuracy: {cross_val_scores.mean()}')"
   ]
  },
  {
   "cell_type": "code",
   "execution_count": null,
   "metadata": {
    "scrolled": true
   },
   "outputs": [],
   "source": [
    "# Determining what attr. hold % of class labels\n",
    "feature_importance = pd.Series(rf_clf.feature_importances_, index=X.columns).sort_values(ascending=False)\n",
    "print(feature_importance)"
   ]
  },
  {
   "cell_type": "code",
   "execution_count": null,
   "metadata": {},
   "outputs": [],
   "source": [
    "from sklearnex import patch_sklearn, config_context\n",
    "patch_sklearn()\n",
    "\n",
    "from lazypredict.Supervised import LazyClassifier\n",
    "from sklearn.model_selection import train_test_split\n",
    "\n",
    "X_train, X_test, y_train, y_test = train_test_split(X, y, test_size=0.2, random_state=1)\n",
    "\n",
    "with config_context(target_offload=\"gpu:0\"):\n",
    "    clf = LazyClassifier(verbose=0, ignore_warnings=True, custom_metric=None)\n",
    "    models, predictions = clf.fit(X_train, X_test, y_train, y_test)\n",
    "\n",
    "    print(models)"
   ]
  }
 ],
 "metadata": {
  "kernelspec": {
   "display_name": "Python 3 (ipykernel)",
   "language": "python",
   "name": "python3"
  },
  "language_info": {
   "codemirror_mode": {
    "name": "ipython",
    "version": 3
   },
   "file_extension": ".py",
   "mimetype": "text/x-python",
   "name": "python",
   "nbconvert_exporter": "python",
   "pygments_lexer": "ipython3",
   "version": "3.10.12"
  }
 },
 "nbformat": 4,
 "nbformat_minor": 2
}
